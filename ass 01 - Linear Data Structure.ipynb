{
 "cells": [
  {
   "cell_type": "code",
   "execution_count": null,
   "id": "8f35c8b4",
   "metadata": {},
   "outputs": [],
   "source": [
    "Q1. Write a program to find all pairs of an integer array whose sum is equal to a given number?"
   ]
  },
  {
   "cell_type": "code",
   "execution_count": 15,
   "id": "96bbc3fe",
   "metadata": {},
   "outputs": [
    {
     "name": "stdout",
     "output_type": "stream",
     "text": [
      "8\n",
      "5  +  3  =  8\n",
      "6  +  2  =  8\n"
     ]
    }
   ],
   "source": [
    "arr = [4,5,6,3,7,8,2]\n",
    "l = len(arr)\n",
    "n = int(input())\n",
    "for i in range (0,l):\n",
    "    for j in range(i+1,l):\n",
    "        if ((arr[i]+arr[j]))==n:\n",
    "            print(arr[i],\" + \",arr[j],\" = \",n)"
   ]
  },
  {
   "cell_type": "code",
   "execution_count": null,
   "id": "1bf7dea8",
   "metadata": {},
   "outputs": [],
   "source": [
    "Q2. Write a program to reverse an array in place? In place means you cannot create a new array. \n",
    "You have to update the original array."
   ]
  },
  {
   "cell_type": "code",
   "execution_count": 17,
   "id": "5650310a",
   "metadata": {},
   "outputs": [
    {
     "name": "stdout",
     "output_type": "stream",
     "text": [
      "[25, 15, 7, 3, 6, 9, 5, 4]\n"
     ]
    }
   ],
   "source": [
    "arr = [4,5,9,6,3,7,15,25]\n",
    "arr.sort()\n",
    "print(arr[::-1])"
   ]
  },
  {
   "cell_type": "code",
   "execution_count": null,
   "id": "cfda39ce",
   "metadata": {},
   "outputs": [],
   "source": [
    "Q3. Write a program to check if two strings are a rotation of each other?"
   ]
  },
  {
   "cell_type": "code",
   "execution_count": 22,
   "id": "1d9ca2e3",
   "metadata": {},
   "outputs": [
    {
     "data": {
      "text/plain": [
       "False"
      ]
     },
     "execution_count": 22,
     "metadata": {},
     "output_type": "execute_result"
    }
   ],
   "source": [
    "def rotation(s1,s2):\n",
    "    m = ''\n",
    "    \n",
    "    if len(s1)!=len(s2):\n",
    "        return False\n",
    "    \n",
    "    m = s1+s1\n",
    "    \n",
    "    if s2 in m:\n",
    "        return True\n",
    "    else:\n",
    "        return False\n",
    "    \n",
    "str1 = \"MYFUNC\"\n",
    "str2 = \"NCFUYM\"\n",
    "rotation(str1,str2)"
   ]
  },
  {
   "cell_type": "code",
   "execution_count": 23,
   "id": "cffe4b26",
   "metadata": {},
   "outputs": [
    {
     "data": {
      "text/plain": [
       "True"
      ]
     },
     "execution_count": 23,
     "metadata": {},
     "output_type": "execute_result"
    }
   ],
   "source": [
    "str1 = \"Hello\"\n",
    "str2 = \"loHel\"\n",
    "rotation(str1,str2)"
   ]
  },
  {
   "cell_type": "code",
   "execution_count": null,
   "id": "84c0eaed",
   "metadata": {},
   "outputs": [],
   "source": [
    "Q4. Write a program to print the first non-repeated character from a string?"
   ]
  },
  {
   "cell_type": "code",
   "execution_count": 35,
   "id": "f65d0284",
   "metadata": {},
   "outputs": [
    {
     "name": "stdout",
     "output_type": "stream",
     "text": [
      "a\n",
      "a\n"
     ]
    }
   ],
   "source": [
    "def first_non_repeated_char(s):\n",
    "    m = []\n",
    "    n = {}\n",
    "    for i in s:\n",
    "        if i in n:\n",
    "            n[i] += i\n",
    "        else:\n",
    "            n[i]= 1\n",
    "            m.append(i)\n",
    "    for i in m:\n",
    "        if n[i]==1:\n",
    "            return i\n",
    "    return None\n",
    "            \n",
    "\n",
    "            \n",
    "print(first_non_repeated_char(\"abcef\"))\n",
    "print(first_non_repeated_char(\"abcedghj\"))"
   ]
  },
  {
   "cell_type": "code",
   "execution_count": null,
   "id": "89fed945",
   "metadata": {},
   "outputs": [],
   "source": [
    "Q5. Write a program to evaluate postfix expression using stack."
   ]
  },
  {
   "cell_type": "code",
   "execution_count": 45,
   "id": "ebf55b6d",
   "metadata": {},
   "outputs": [
    {
     "name": "stdout",
     "output_type": "stream",
     "text": [
      "1\n"
     ]
    }
   ],
   "source": [
    "from collections import deque\n",
    "\n",
    "def eval_postfix(exp):\n",
    "    \n",
    "    #Basecase\n",
    "    if not exp:\n",
    "        exit(-1)\n",
    "        \n",
    "    #Empty stack\n",
    "    stack = deque()\n",
    "    \n",
    "    #Traverse\n",
    "    for ch in exp:\n",
    "        \n",
    "        #if the current is an operand, push it into the stack\n",
    "        if ch.isdigit():\n",
    "            stack.append(int(ch))\n",
    "            \n",
    "        #if current is an operator\n",
    "        else:\n",
    "            #remove top element\n",
    "            x = stack.pop()\n",
    "            y = stack.pop()\n",
    "            \n",
    "            #eval exp 'x op y',and push\n",
    "            #result back to stack\n",
    "            if ch == '+':\n",
    "                stack. append(y+x)\n",
    "            elif ch == '-':\n",
    "                stack.append(y-x)\n",
    "            elif ch == '*':\n",
    "                stack.append(y*x)\n",
    "            elif ch == '/':\n",
    "                stack.append(y//x)\n",
    "        #result\n",
    "        return stack.pop()\n",
    "    \n",
    "if __name__ == '__main__':\n",
    "    \n",
    "    exp = '100 200 +2/5*7+'\n",
    "    print(eval_postfix(exp))    "
   ]
  },
  {
   "cell_type": "code",
   "execution_count": null,
   "id": "4a77c034",
   "metadata": {},
   "outputs": [],
   "source": [
    "Q6. Read about infix, prefix, and postfix expressions. Write a program to convert infix to postfix expression."
   ]
  },
  {
   "cell_type": "code",
   "execution_count": null,
   "id": "be89abea",
   "metadata": {},
   "outputs": [],
   "source": [
    "def inFixToPostFix():\n",
    "inFix = '3*(x+1)-2/2'\n",
    "postFix = ''\n",
    "s = Stack()\n",
    "\n",
    "for c in inFix:\n",
    "    # if elif chain for anything that c can be\n",
    "    if c in \"0123456789x\":\n",
    "        postFix += c\n",
    "    elif c in \"+-\":\n",
    "        if s.isEmpty():\n",
    "            s.push(c)\n",
    "        elif s.top() =='(':\n",
    "            s.push(c)\n",
    "    elif c in \"*/\":\n",
    "        if s.isEmpty():\n",
    "            s.push(c)\n",
    "        elif s.top() in \"+-(\":\n",
    "            s.push(c)\n",
    "    elif c == \"(\":\n",
    "        s.push(c)\n",
    "    elif c == \")\":\n",
    "        while s.top() is not '(':\n",
    "            postFix += s.pop()\n",
    "        s.pop()\n",
    "    else:\n",
    "        print(\"Error\")\n",
    "\n",
    "print(postFix)\n",
    "return postFix"
   ]
  },
  {
   "cell_type": "code",
   "execution_count": null,
   "id": "19104356",
   "metadata": {},
   "outputs": [],
   "source": [
    "Q7. Write a program to convert prefix expression to infix expression."
   ]
  },
  {
   "cell_type": "code",
   "execution_count": null,
   "id": "def614bc",
   "metadata": {},
   "outputs": [],
   "source": [
    "def prefixToInfix(prefix):\n",
    "    stack = []\n",
    "     \n",
    "    # read prefix in reverse order\n",
    "    i = len(prefix) - 1\n",
    "    while i >= 0:\n",
    "        if not isOperator(prefix[i]):\n",
    "             \n",
    "            # symbol is operand\n",
    "            stack.append(prefix[i])\n",
    "            i -= 1\n",
    "        else:\n",
    "           \n",
    "            # symbol is operator\n",
    "            str = \"(\" + stack.pop() + prefix[i] + stack.pop() + \")\"\n",
    "            stack.append(str)\n",
    "            i -= 1\n",
    "     \n",
    "    return stack.pop()\n",
    " \n",
    "def isOperator(c):\n",
    "    if c == \"*\" or c == \"+\" or c == \"-\" or c == \"/\" or c == \"^\" or c == \"(\" or c == \")\":\n",
    "        return True\n",
    "    else:\n",
    "        return False\n",
    "    \n",
    "# Driver code\n",
    "if __name__==\"__main__\":\n",
    "    str = \"*-A/BC-/AKL\"\n",
    "    print(prefixToInfix(str))\n",
    "     "
   ]
  },
  {
   "cell_type": "code",
   "execution_count": null,
   "id": "d444a429",
   "metadata": {},
   "outputs": [],
   "source": [
    "Q8. Write a program to check if all the brackets are closed in a given code snippet."
   ]
  },
  {
   "cell_type": "code",
   "execution_count": 48,
   "id": "6e2a344a",
   "metadata": {},
   "outputs": [
    {
     "name": "stdout",
     "output_type": "stream",
     "text": [
      "balanced\n"
     ]
    }
   ],
   "source": [
    "def is_bal_brackets(exp):\n",
    "    flag = True\n",
    "    count = 0\n",
    "    for i in range(len(exp)):\n",
    "        if(exp[i]=='('):\n",
    "            count += 1\n",
    "        else:\n",
    "            count -= 1\n",
    "            \n",
    "        if (count <0):\n",
    "            flag = False\n",
    "            break\n",
    "            \n",
    "    if(count != 0):\n",
    "        flag = False\n",
    "    \n",
    "    return flag\n",
    "\n",
    "\n",
    "if __name__ == '__main__':\n",
    "    \n",
    "    exp1 ='((()))()()'\n",
    "    \n",
    "    if is_bal_brackets(exp1):\n",
    "        print(\"balanced\")\n",
    "    else:\n",
    "        print(\"not balanced\")"
   ]
  },
  {
   "cell_type": "code",
   "execution_count": null,
   "id": "ec2dc479",
   "metadata": {},
   "outputs": [],
   "source": [
    "Q9. Write a program to reverse a stack."
   ]
  },
  {
   "cell_type": "code",
   "execution_count": 4,
   "id": "860ad302",
   "metadata": {},
   "outputs": [
    {
     "name": "stdout",
     "output_type": "stream",
     "text": [
      "Please enter the elements to push:7 3 1 5\n",
      "The stack:\n",
      "5\n",
      "1\n",
      "3\n",
      "7\n",
      "After reversing:\n",
      "7\n",
      "3\n",
      "1\n",
      "5\n"
     ]
    }
   ],
   "source": [
    "class stack:\n",
    "    def __init__(self):\n",
    "        self.items=[]\n",
    "        \n",
    "    def is_empty(self):\n",
    "        return self.items == []\n",
    "    \n",
    "    def push(self,data):\n",
    "        self.items.append(data)\n",
    "        \n",
    "    def pop(self):\n",
    "        return self.items.pop()\n",
    "    \n",
    "    def display(self):\n",
    "        for data in reversed(self.items):\n",
    "            print(data)\n",
    "            \n",
    "def insert_at_bottom(s,data):\n",
    "    if s.is_empty():\n",
    "        s.push(data)\n",
    "    else:\n",
    "        popped = s.pop()\n",
    "        insert_at_bottom(s,data)\n",
    "        s.push(popped)\n",
    "        \n",
    "def reverse_stack(s):\n",
    "    if not s.is_empty():\n",
    "        popped = s.pop()\n",
    "        reverse_stack(s)\n",
    "        insert_at_bottom(s,popped)\n",
    "        \n",
    "        \n",
    "s = stack()\n",
    "data_list = input('Please enter the elements to push:').split()\n",
    "for data in data_list:\n",
    "    s.push(int(data))\n",
    "    \n",
    "print('The stack:')\n",
    "s.display()\n",
    "reverse_stack(s)\n",
    "print('After reversing:')\n",
    "s.display()"
   ]
  },
  {
   "cell_type": "code",
   "execution_count": null,
   "id": "63cd44f4",
   "metadata": {},
   "outputs": [],
   "source": [
    "Q10. Write a program to find the smallest number using a stack."
   ]
  },
  {
   "cell_type": "code",
   "execution_count": 8,
   "id": "cbaba35a",
   "metadata": {},
   "outputs": [
    {
     "name": "stdout",
     "output_type": "stream",
     "text": [
      "-3\n"
     ]
    }
   ],
   "source": [
    "class MinStack(object):\n",
    "    min=float('inf')\n",
    "    \n",
    "    \n",
    "    def __init__(self):\n",
    "        self.min=float('inf')\n",
    "        self.stack = []\n",
    "    \n",
    "    def push(self, x):\n",
    "        if x<=self.min:\n",
    "            self.stack.append(self.min)\n",
    "            self.min = x\n",
    "            self.stack.append(x)\n",
    "    \n",
    "    def pop(self):\n",
    "        t = self.stack[-1]\n",
    "        self.stack.pop()\n",
    "        if self.min == t:\n",
    "            self.min = self.stack[-1]\n",
    "            self.stack.pop()\n",
    "    \n",
    "    def top(self):\n",
    "        return self.stack[-1]\n",
    "    \n",
    "    def getMin(self):\n",
    "        return self.min\n",
    "    \n",
    "m = MinStack()\n",
    "m.push(-2)\n",
    "m.push(0)\n",
    "m.push(-3)\n",
    "print(m.getMin())"
   ]
  },
  {
   "cell_type": "code",
   "execution_count": null,
   "id": "7c69deea",
   "metadata": {},
   "outputs": [],
   "source": []
  }
 ],
 "metadata": {
  "kernelspec": {
   "display_name": "Python 3 (ipykernel)",
   "language": "python",
   "name": "python3"
  },
  "language_info": {
   "codemirror_mode": {
    "name": "ipython",
    "version": 3
   },
   "file_extension": ".py",
   "mimetype": "text/x-python",
   "name": "python",
   "nbconvert_exporter": "python",
   "pygments_lexer": "ipython3",
   "version": "3.10.0"
  }
 },
 "nbformat": 4,
 "nbformat_minor": 5
}
